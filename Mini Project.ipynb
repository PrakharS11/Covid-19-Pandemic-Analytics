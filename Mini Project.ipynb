{
 "cells": [
  {
   "cell_type": "markdown",
   "metadata": {},
   "source": [
    "# Mini Project"
   ]
  },
  {
   "cell_type": "markdown",
   "metadata": {},
   "source": [
    "# Data frames for allocated U.T. 'Delhi' for the month of June 2020 on Confirmed, Recovered & Deaths"
   ]
  },
  {
   "cell_type": "code",
   "execution_count": 4,
   "metadata": {},
   "outputs": [],
   "source": [
    "import pandas as pd\n",
    "import matplotlib.pyplot as plt\n",
    "df= pd.read_csv('covid_19_india.csv')"
   ]
  },
  {
   "cell_type": "code",
   "execution_count": 13,
   "metadata": {},
   "outputs": [],
   "source": [
    "data_delhi=df.loc[df['State'] == \"Delhi\"]"
   ]
  },
  {
   "cell_type": "code",
   "execution_count": 6,
   "metadata": {},
   "outputs": [
    {
     "data": {
      "text/html": [
       "<div>\n",
       "<style scoped>\n",
       "    .dataframe tbody tr th:only-of-type {\n",
       "        vertical-align: middle;\n",
       "    }\n",
       "\n",
       "    .dataframe tbody tr th {\n",
       "        vertical-align: top;\n",
       "    }\n",
       "\n",
       "    .dataframe thead th {\n",
       "        text-align: right;\n",
       "    }\n",
       "</style>\n",
       "<table border=\"1\" class=\"dataframe\">\n",
       "  <thead>\n",
       "    <tr style=\"text-align: right;\">\n",
       "      <th></th>\n",
       "      <th>Date</th>\n",
       "      <th>Time</th>\n",
       "      <th>State</th>\n",
       "      <th>Recovered</th>\n",
       "      <th>Deaths</th>\n",
       "      <th>Confirmed</th>\n",
       "    </tr>\n",
       "  </thead>\n",
       "  <tbody>\n",
       "    <tr>\n",
       "      <th>0</th>\n",
       "      <td>1/6/2020</td>\n",
       "      <td>8:00 AM</td>\n",
       "      <td>Delhi</td>\n",
       "      <td>8478</td>\n",
       "      <td>473</td>\n",
       "      <td>19844</td>\n",
       "    </tr>\n",
       "    <tr>\n",
       "      <th>1</th>\n",
       "      <td>2/6/2020</td>\n",
       "      <td>8:00 AM</td>\n",
       "      <td>Delhi</td>\n",
       "      <td>8746</td>\n",
       "      <td>523</td>\n",
       "      <td>20834</td>\n",
       "    </tr>\n",
       "    <tr>\n",
       "      <th>2</th>\n",
       "      <td>3/6/2020</td>\n",
       "      <td>8:00 AM</td>\n",
       "      <td>Delhi</td>\n",
       "      <td>9243</td>\n",
       "      <td>556</td>\n",
       "      <td>22132</td>\n",
       "    </tr>\n",
       "    <tr>\n",
       "      <th>3</th>\n",
       "      <td>4/6/2020</td>\n",
       "      <td>8:00 AM</td>\n",
       "      <td>Delhi</td>\n",
       "      <td>9542</td>\n",
       "      <td>606</td>\n",
       "      <td>23645</td>\n",
       "    </tr>\n",
       "    <tr>\n",
       "      <th>4</th>\n",
       "      <td>5/6/2020</td>\n",
       "      <td>8:00 AM</td>\n",
       "      <td>Delhi</td>\n",
       "      <td>9898</td>\n",
       "      <td>650</td>\n",
       "      <td>25004</td>\n",
       "    </tr>\n",
       "    <tr>\n",
       "      <th>5</th>\n",
       "      <td>6/6/2020</td>\n",
       "      <td>8:00 AM</td>\n",
       "      <td>Delhi</td>\n",
       "      <td>10315</td>\n",
       "      <td>708</td>\n",
       "      <td>26334</td>\n",
       "    </tr>\n",
       "    <tr>\n",
       "      <th>6</th>\n",
       "      <td>7/6/2020</td>\n",
       "      <td>8:00 AM</td>\n",
       "      <td>Delhi</td>\n",
       "      <td>10664</td>\n",
       "      <td>761</td>\n",
       "      <td>27654</td>\n",
       "    </tr>\n",
       "    <tr>\n",
       "      <th>7</th>\n",
       "      <td>8/6/2020</td>\n",
       "      <td>8:00 AM</td>\n",
       "      <td>Delhi</td>\n",
       "      <td>10664</td>\n",
       "      <td>761</td>\n",
       "      <td>27654</td>\n",
       "    </tr>\n",
       "    <tr>\n",
       "      <th>8</th>\n",
       "      <td>9/6/2020</td>\n",
       "      <td>8:00 AM</td>\n",
       "      <td>Delhi</td>\n",
       "      <td>11357</td>\n",
       "      <td>874</td>\n",
       "      <td>29943</td>\n",
       "    </tr>\n",
       "    <tr>\n",
       "      <th>9</th>\n",
       "      <td>10/6/2020</td>\n",
       "      <td>8:00 AM</td>\n",
       "      <td>Delhi</td>\n",
       "      <td>11861</td>\n",
       "      <td>905</td>\n",
       "      <td>31309</td>\n",
       "    </tr>\n",
       "    <tr>\n",
       "      <th>10</th>\n",
       "      <td>11/6/2020</td>\n",
       "      <td>8:00 AM</td>\n",
       "      <td>Delhi</td>\n",
       "      <td>12245</td>\n",
       "      <td>984</td>\n",
       "      <td>32810</td>\n",
       "    </tr>\n",
       "    <tr>\n",
       "      <th>11</th>\n",
       "      <td>12/6/2020</td>\n",
       "      <td>8:00 AM</td>\n",
       "      <td>Delhi</td>\n",
       "      <td>12731</td>\n",
       "      <td>1085</td>\n",
       "      <td>34687</td>\n",
       "    </tr>\n",
       "    <tr>\n",
       "      <th>12</th>\n",
       "      <td>13/06/20</td>\n",
       "      <td>8:00 AM</td>\n",
       "      <td>Delhi</td>\n",
       "      <td>13398</td>\n",
       "      <td>1214</td>\n",
       "      <td>36824</td>\n",
       "    </tr>\n",
       "    <tr>\n",
       "      <th>13</th>\n",
       "      <td>14/06/20</td>\n",
       "      <td>8:00 AM</td>\n",
       "      <td>Delhi</td>\n",
       "      <td>14945</td>\n",
       "      <td>1271</td>\n",
       "      <td>38958</td>\n",
       "    </tr>\n",
       "    <tr>\n",
       "      <th>14</th>\n",
       "      <td>15/06/20</td>\n",
       "      <td>8:00 AM</td>\n",
       "      <td>Delhi</td>\n",
       "      <td>15823</td>\n",
       "      <td>1327</td>\n",
       "      <td>41182</td>\n",
       "    </tr>\n",
       "  </tbody>\n",
       "</table>\n",
       "</div>"
      ],
      "text/plain": [
       "         Date     Time  State  Recovered  Deaths  Confirmed\n",
       "0    1/6/2020  8:00 AM  Delhi       8478     473      19844\n",
       "1    2/6/2020  8:00 AM  Delhi       8746     523      20834\n",
       "2    3/6/2020  8:00 AM  Delhi       9243     556      22132\n",
       "3    4/6/2020  8:00 AM  Delhi       9542     606      23645\n",
       "4    5/6/2020  8:00 AM  Delhi       9898     650      25004\n",
       "5    6/6/2020  8:00 AM  Delhi      10315     708      26334\n",
       "6    7/6/2020  8:00 AM  Delhi      10664     761      27654\n",
       "7    8/6/2020  8:00 AM  Delhi      10664     761      27654\n",
       "8    9/6/2020  8:00 AM  Delhi      11357     874      29943\n",
       "9   10/6/2020  8:00 AM  Delhi      11861     905      31309\n",
       "10  11/6/2020  8:00 AM  Delhi      12245     984      32810\n",
       "11  12/6/2020  8:00 AM  Delhi      12731    1085      34687\n",
       "12   13/06/20  8:00 AM  Delhi      13398    1214      36824\n",
       "13   14/06/20  8:00 AM  Delhi      14945    1271      38958\n",
       "14   15/06/20  8:00 AM  Delhi      15823    1327      41182"
      ]
     },
     "execution_count": 6,
     "metadata": {},
     "output_type": "execute_result"
    }
   ],
   "source": [
    "data_delhi.head(15)"
   ]
  },
  {
   "cell_type": "code",
   "execution_count": 7,
   "metadata": {},
   "outputs": [
    {
     "data": {
      "text/html": [
       "<div>\n",
       "<style scoped>\n",
       "    .dataframe tbody tr th:only-of-type {\n",
       "        vertical-align: middle;\n",
       "    }\n",
       "\n",
       "    .dataframe tbody tr th {\n",
       "        vertical-align: top;\n",
       "    }\n",
       "\n",
       "    .dataframe thead th {\n",
       "        text-align: right;\n",
       "    }\n",
       "</style>\n",
       "<table border=\"1\" class=\"dataframe\">\n",
       "  <thead>\n",
       "    <tr style=\"text-align: right;\">\n",
       "      <th></th>\n",
       "      <th>Date</th>\n",
       "      <th>Time</th>\n",
       "      <th>State</th>\n",
       "      <th>Recovered</th>\n",
       "      <th>Deaths</th>\n",
       "      <th>Confirmed</th>\n",
       "    </tr>\n",
       "  </thead>\n",
       "  <tbody>\n",
       "    <tr>\n",
       "      <th>15</th>\n",
       "      <td>16/06/20</td>\n",
       "      <td>8:00 AM</td>\n",
       "      <td>Delhi</td>\n",
       "      <td>16427</td>\n",
       "      <td>1400</td>\n",
       "      <td>42829</td>\n",
       "    </tr>\n",
       "    <tr>\n",
       "      <th>16</th>\n",
       "      <td>17/06/20</td>\n",
       "      <td>8:00 AM</td>\n",
       "      <td>Delhi</td>\n",
       "      <td>16500</td>\n",
       "      <td>1837</td>\n",
       "      <td>44688</td>\n",
       "    </tr>\n",
       "    <tr>\n",
       "      <th>17</th>\n",
       "      <td>18/06/20</td>\n",
       "      <td>8:00 AM</td>\n",
       "      <td>Delhi</td>\n",
       "      <td>17457</td>\n",
       "      <td>1904</td>\n",
       "      <td>47102</td>\n",
       "    </tr>\n",
       "    <tr>\n",
       "      <th>18</th>\n",
       "      <td>19/06/20</td>\n",
       "      <td>8:00 AM</td>\n",
       "      <td>Delhi</td>\n",
       "      <td>21341</td>\n",
       "      <td>1969</td>\n",
       "      <td>49979</td>\n",
       "    </tr>\n",
       "    <tr>\n",
       "      <th>19</th>\n",
       "      <td>20/06/20</td>\n",
       "      <td>8:00 AM</td>\n",
       "      <td>Delhi</td>\n",
       "      <td>23569</td>\n",
       "      <td>2035</td>\n",
       "      <td>53116</td>\n",
       "    </tr>\n",
       "    <tr>\n",
       "      <th>20</th>\n",
       "      <td>21/06/20</td>\n",
       "      <td>8:00 AM</td>\n",
       "      <td>Delhi</td>\n",
       "      <td>31294</td>\n",
       "      <td>2112</td>\n",
       "      <td>56746</td>\n",
       "    </tr>\n",
       "    <tr>\n",
       "      <th>21</th>\n",
       "      <td>22/06/20</td>\n",
       "      <td>8:00 AM</td>\n",
       "      <td>Delhi</td>\n",
       "      <td>33013</td>\n",
       "      <td>2175</td>\n",
       "      <td>59746</td>\n",
       "    </tr>\n",
       "    <tr>\n",
       "      <th>22</th>\n",
       "      <td>23/06/20</td>\n",
       "      <td>8:00 AM</td>\n",
       "      <td>Delhi</td>\n",
       "      <td>36602</td>\n",
       "      <td>2233</td>\n",
       "      <td>62655</td>\n",
       "    </tr>\n",
       "    <tr>\n",
       "      <th>23</th>\n",
       "      <td>24/06/20</td>\n",
       "      <td>8:00 AM</td>\n",
       "      <td>Delhi</td>\n",
       "      <td>39313</td>\n",
       "      <td>2301</td>\n",
       "      <td>66602</td>\n",
       "    </tr>\n",
       "    <tr>\n",
       "      <th>24</th>\n",
       "      <td>25/06/20</td>\n",
       "      <td>8:00 AM</td>\n",
       "      <td>Delhi</td>\n",
       "      <td>41437</td>\n",
       "      <td>2365</td>\n",
       "      <td>70390</td>\n",
       "    </tr>\n",
       "    <tr>\n",
       "      <th>25</th>\n",
       "      <td>26/06/20</td>\n",
       "      <td>8:00 AM</td>\n",
       "      <td>Delhi</td>\n",
       "      <td>44765</td>\n",
       "      <td>2429</td>\n",
       "      <td>73780</td>\n",
       "    </tr>\n",
       "    <tr>\n",
       "      <th>26</th>\n",
       "      <td>27/06/20</td>\n",
       "      <td>8:00 AM</td>\n",
       "      <td>Delhi</td>\n",
       "      <td>47091</td>\n",
       "      <td>2492</td>\n",
       "      <td>77240</td>\n",
       "    </tr>\n",
       "    <tr>\n",
       "      <th>27</th>\n",
       "      <td>28/06/20</td>\n",
       "      <td>8:00 AM</td>\n",
       "      <td>Delhi</td>\n",
       "      <td>49301</td>\n",
       "      <td>2558</td>\n",
       "      <td>80188</td>\n",
       "    </tr>\n",
       "    <tr>\n",
       "      <th>28</th>\n",
       "      <td>29/06/20</td>\n",
       "      <td>8:00 AM</td>\n",
       "      <td>Delhi</td>\n",
       "      <td>52607</td>\n",
       "      <td>2623</td>\n",
       "      <td>83077</td>\n",
       "    </tr>\n",
       "    <tr>\n",
       "      <th>29</th>\n",
       "      <td>30/06/20</td>\n",
       "      <td>8:00 AM</td>\n",
       "      <td>Delhi</td>\n",
       "      <td>56235</td>\n",
       "      <td>2680</td>\n",
       "      <td>85161</td>\n",
       "    </tr>\n",
       "  </tbody>\n",
       "</table>\n",
       "</div>"
      ],
      "text/plain": [
       "        Date     Time  State  Recovered  Deaths  Confirmed\n",
       "15  16/06/20  8:00 AM  Delhi      16427    1400      42829\n",
       "16  17/06/20  8:00 AM  Delhi      16500    1837      44688\n",
       "17  18/06/20  8:00 AM  Delhi      17457    1904      47102\n",
       "18  19/06/20  8:00 AM  Delhi      21341    1969      49979\n",
       "19  20/06/20  8:00 AM  Delhi      23569    2035      53116\n",
       "20  21/06/20  8:00 AM  Delhi      31294    2112      56746\n",
       "21  22/06/20  8:00 AM  Delhi      33013    2175      59746\n",
       "22  23/06/20  8:00 AM  Delhi      36602    2233      62655\n",
       "23  24/06/20  8:00 AM  Delhi      39313    2301      66602\n",
       "24  25/06/20  8:00 AM  Delhi      41437    2365      70390\n",
       "25  26/06/20  8:00 AM  Delhi      44765    2429      73780\n",
       "26  27/06/20  8:00 AM  Delhi      47091    2492      77240\n",
       "27  28/06/20  8:00 AM  Delhi      49301    2558      80188\n",
       "28  29/06/20  8:00 AM  Delhi      52607    2623      83077\n",
       "29  30/06/20  8:00 AM  Delhi      56235    2680      85161"
      ]
     },
     "execution_count": 7,
     "metadata": {},
     "output_type": "execute_result"
    }
   ],
   "source": [
    "data_delhi.tail(15)"
   ]
  },
  {
   "cell_type": "code",
   "execution_count": 21,
   "metadata": {},
   "outputs": [
    {
     "data": {
      "text/html": [
       "<div>\n",
       "<style scoped>\n",
       "    .dataframe tbody tr th:only-of-type {\n",
       "        vertical-align: middle;\n",
       "    }\n",
       "\n",
       "    .dataframe tbody tr th {\n",
       "        vertical-align: top;\n",
       "    }\n",
       "\n",
       "    .dataframe thead th {\n",
       "        text-align: right;\n",
       "    }\n",
       "</style>\n",
       "<table border=\"1\" class=\"dataframe\">\n",
       "  <thead>\n",
       "    <tr style=\"text-align: right;\">\n",
       "      <th></th>\n",
       "      <th>Recovered</th>\n",
       "      <th>Deaths</th>\n",
       "      <th>Confirmed</th>\n",
       "    </tr>\n",
       "  </thead>\n",
       "  <tbody>\n",
       "    <tr>\n",
       "      <th>count</th>\n",
       "      <td>30.000000</td>\n",
       "      <td>30.000000</td>\n",
       "      <td>30.000000</td>\n",
       "    </tr>\n",
       "    <tr>\n",
       "      <th>mean</th>\n",
       "      <td>23228.733333</td>\n",
       "      <td>1527.033333</td>\n",
       "      <td>46403.766667</td>\n",
       "    </tr>\n",
       "    <tr>\n",
       "      <th>std</th>\n",
       "      <td>15442.300311</td>\n",
       "      <td>757.457475</td>\n",
       "      <td>20611.945669</td>\n",
       "    </tr>\n",
       "    <tr>\n",
       "      <th>min</th>\n",
       "      <td>8478.000000</td>\n",
       "      <td>473.000000</td>\n",
       "      <td>19844.000000</td>\n",
       "    </tr>\n",
       "    <tr>\n",
       "      <th>25%</th>\n",
       "      <td>10837.250000</td>\n",
       "      <td>789.250000</td>\n",
       "      <td>28226.250000</td>\n",
       "    </tr>\n",
       "    <tr>\n",
       "      <th>50%</th>\n",
       "      <td>16125.000000</td>\n",
       "      <td>1363.500000</td>\n",
       "      <td>42005.500000</td>\n",
       "    </tr>\n",
       "    <tr>\n",
       "      <th>75%</th>\n",
       "      <td>35704.750000</td>\n",
       "      <td>2218.500000</td>\n",
       "      <td>61927.750000</td>\n",
       "    </tr>\n",
       "    <tr>\n",
       "      <th>max</th>\n",
       "      <td>56235.000000</td>\n",
       "      <td>2680.000000</td>\n",
       "      <td>85161.000000</td>\n",
       "    </tr>\n",
       "  </tbody>\n",
       "</table>\n",
       "</div>"
      ],
      "text/plain": [
       "          Recovered       Deaths     Confirmed\n",
       "count     30.000000    30.000000     30.000000\n",
       "mean   23228.733333  1527.033333  46403.766667\n",
       "std    15442.300311   757.457475  20611.945669\n",
       "min     8478.000000   473.000000  19844.000000\n",
       "25%    10837.250000   789.250000  28226.250000\n",
       "50%    16125.000000  1363.500000  42005.500000\n",
       "75%    35704.750000  2218.500000  61927.750000\n",
       "max    56235.000000  2680.000000  85161.000000"
      ]
     },
     "execution_count": 21,
     "metadata": {},
     "output_type": "execute_result"
    }
   ],
   "source": [
    "data_delhi.describe()"
   ]
  },
  {
   "cell_type": "code",
   "execution_count": 20,
   "metadata": {},
   "outputs": [
    {
     "data": {
      "text/plain": [
       "<matplotlib.axes._subplots.AxesSubplot at 0x3ab5d70>"
      ]
     },
     "execution_count": 20,
     "metadata": {},
     "output_type": "execute_result"
    },
    {
     "data": {
      "image/png": "[encoded data removed]",
      "text/plain": [
       "<Figure size 720x360 with 1 Axes>"
      ]
     },
     "metadata": {
      "needs_background": "light"
     },
     "output_type": "display_data"
    }
   ],
   "source": [
    "ax = plt.gca()\n",
    "data_delhi.plot(kind='bar',color='yellow',x='Date',y='Confirmed', figsize=(10,5),ax=ax)\n",
    "data_delhi.plot(kind='bar',color='green',x='Date',y='Recovered',figsize=(10,5),ax=ax)\n",
    "data_delhi.plot(kind='bar',color='red',x='Date',y='Deaths',figsize=(10,5),ax=ax)"
   ]
  },
  {
   "cell_type": "code",
   "execution_count": 19,
   "metadata": {},
   "outputs": [
    {
     "data": {
      "image/png": "[encoded data removed]",
      "text/plain": [
       "<Figure size 720x360 with 1 Axes>"
      ]
     },
     "metadata": {
      "needs_background": "light"
     },
     "output_type": "display_data"
    }
   ],
   "source": [
    "data_delhi.plot(kind='scatter',x='Confirmed',y='Deaths',color='red',figsize=(10,5))\n",
    "plt.show()"
   ]
  },
  {
   "cell_type": "code",
   "execution_count": 24,
   "metadata": {},
   "outputs": [
    {
     "data": {
      "image/png": "[encoded data removed]",
      "text/plain": [
       "<Figure size 720x360 with 1 Axes>"
      ]
     },
     "metadata": {
      "needs_background": "light"
     },
     "output_type": "display_data"
    }
   ],
   "source": [
    "ax = plt.gca()\n",
    "data_delhi.plot(kind='line',x='Date',y='Recovered' ,   color='green',figsize=(10,5),ax=ax)\n",
    "data_delhi.plot(kind='line',x='Date',y='Confirmed' ,   color='red',figsize=(10,5),ax=ax)\n",
    "plt.show()"
   ]
  },
  {
   "cell_type": "code",
   "execution_count": 25,
   "metadata": {},
   "outputs": [
    {
     "name": "stdout",
     "output_type": "stream",
     "text": [
      "<class 'pandas.core.frame.DataFrame'>\n",
      "RangeIndex: 90 entries, 0 to 89\n",
      "Data columns (total 6 columns):\n",
      " #   Column     Non-Null Count  Dtype \n",
      "---  ------     --------------  ----- \n",
      " 0   Date       90 non-null     object\n",
      " 1   Time       90 non-null     object\n",
      " 2   State      90 non-null     object\n",
      " 3   Recovered  90 non-null     int64 \n",
      " 4   Deaths     90 non-null     int64 \n",
      " 5   Confirmed  90 non-null     int64 \n",
      "dtypes: int64(3), object(3)\n",
      "memory usage: 3.2+ KB\n"
     ]
    }
   ],
   "source": [
    "import seaborn as sns\n",
    "df.info()"
   ]
  },
  {
   "cell_type": "code",
   "execution_count": 26,
   "metadata": {},
   "outputs": [
    {
     "data": {
      "text/plain": [
       "<matplotlib.axes._subplots.AxesSubplot at 0xa4d9ed0>"
      ]
     },
     "execution_count": 26,
     "metadata": {},
     "output_type": "execute_result"
    },
    {
     "data": {
      "image/png": "[encoded data removed]",
      "text/plain": [
       "<Figure size 432x288 with 1 Axes>"
      ]
     },
     "metadata": {
      "needs_background": "light"
     },
     "output_type": "display_data"
    }
   ],
   "source": [
    "sns.scatterplot(x='Recovered',y='Deaths',data=df)"
   ]
  },
  {
   "cell_type": "code",
   "execution_count": null,
   "metadata": {},
   "outputs": [],
   "source": []
  },
  {
   "cell_type": "markdown",
   "metadata": {},
   "source": [
    "# Overview of COVID 19 in the state vis à vis the neighbouring states for the month of June 2020"
   ]
  },
  {
   "cell_type": "markdown",
   "metadata": {},
   "source": [
    "# UTTAR PRADESH"
   ]
  },
  {
   "cell_type": "code",
   "execution_count": 29,
   "metadata": {},
   "outputs": [
    {
     "data": {
      "text/html": [
       "<div>\n",
       "<style scoped>\n",
       "    .dataframe tbody tr th:only-of-type {\n",
       "        vertical-align: middle;\n",
       "    }\n",
       "\n",
       "    .dataframe tbody tr th {\n",
       "        vertical-align: top;\n",
       "    }\n",
       "\n",
       "    .dataframe thead th {\n",
       "        text-align: right;\n",
       "    }\n",
       "</style>\n",
       "<table border=\"1\" class=\"dataframe\">\n",
       "  <thead>\n",
       "    <tr style=\"text-align: right;\">\n",
       "      <th></th>\n",
       "      <th>Recovered</th>\n",
       "      <th>Deaths</th>\n",
       "      <th>Confirmed</th>\n",
       "    </tr>\n",
       "  </thead>\n",
       "  <tbody>\n",
       "    <tr>\n",
       "      <th>count</th>\n",
       "      <td>30.000000</td>\n",
       "      <td>30.000000</td>\n",
       "      <td>30.000000</td>\n",
       "    </tr>\n",
       "    <tr>\n",
       "      <th>mean</th>\n",
       "      <td>8892.966667</td>\n",
       "      <td>418.333333</td>\n",
       "      <td>14319.433333</td>\n",
       "    </tr>\n",
       "    <tr>\n",
       "      <th>std</th>\n",
       "      <td>3265.160877</td>\n",
       "      <td>153.669447</td>\n",
       "      <td>4611.129263</td>\n",
       "    </tr>\n",
       "    <tr>\n",
       "      <th>min</th>\n",
       "      <td>4709.000000</td>\n",
       "      <td>213.000000</td>\n",
       "      <td>7823.000000</td>\n",
       "    </tr>\n",
       "    <tr>\n",
       "      <th>25%</th>\n",
       "      <td>6224.750000</td>\n",
       "      <td>277.000000</td>\n",
       "      <td>10638.750000</td>\n",
       "    </tr>\n",
       "    <tr>\n",
       "      <th>50%</th>\n",
       "      <td>8268.000000</td>\n",
       "      <td>399.000000</td>\n",
       "      <td>13615.000000</td>\n",
       "    </tr>\n",
       "    <tr>\n",
       "      <th>75%</th>\n",
       "      <td>11449.500000</td>\n",
       "      <td>564.250000</td>\n",
       "      <td>18174.250000</td>\n",
       "    </tr>\n",
       "    <tr>\n",
       "      <th>max</th>\n",
       "      <td>15506.000000</td>\n",
       "      <td>672.000000</td>\n",
       "      <td>22828.000000</td>\n",
       "    </tr>\n",
       "  </tbody>\n",
       "</table>\n",
       "</div>"
      ],
      "text/plain": [
       "          Recovered      Deaths     Confirmed\n",
       "count     30.000000   30.000000     30.000000\n",
       "mean    8892.966667  418.333333  14319.433333\n",
       "std     3265.160877  153.669447   4611.129263\n",
       "min     4709.000000  213.000000   7823.000000\n",
       "25%     6224.750000  277.000000  10638.750000\n",
       "50%     8268.000000  399.000000  13615.000000\n",
       "75%    11449.500000  564.250000  18174.250000\n",
       "max    15506.000000  672.000000  22828.000000"
      ]
     },
     "execution_count": 29,
     "metadata": {},
     "output_type": "execute_result"
    }
   ],
   "source": [
    "data_uttar_pradesh=df.loc[df['State'] == \"Uttar Pradesh\"]\n",
    "data_uttar_pradesh.describe()"
   ]
  },
  {
   "cell_type": "markdown",
   "metadata": {},
   "source": [
    "# HARYANA"
   ]
  },
  {
   "cell_type": "code",
   "execution_count": 28,
   "metadata": {},
   "outputs": [
    {
     "data": {
      "text/html": [
       "<div>\n",
       "<style scoped>\n",
       "    .dataframe tbody tr th:only-of-type {\n",
       "        vertical-align: middle;\n",
       "    }\n",
       "\n",
       "    .dataframe tbody tr th {\n",
       "        vertical-align: top;\n",
       "    }\n",
       "\n",
       "    .dataframe thead th {\n",
       "        text-align: right;\n",
       "    }\n",
       "</style>\n",
       "<table border=\"1\" class=\"dataframe\">\n",
       "  <thead>\n",
       "    <tr style=\"text-align: right;\">\n",
       "      <th></th>\n",
       "      <th>Recovered</th>\n",
       "      <th>Deaths</th>\n",
       "      <th>Confirmed</th>\n",
       "    </tr>\n",
       "  </thead>\n",
       "  <tbody>\n",
       "    <tr>\n",
       "      <th>count</th>\n",
       "      <td>30.000000</td>\n",
       "      <td>30.000000</td>\n",
       "      <td>30.000000</td>\n",
       "    </tr>\n",
       "    <tr>\n",
       "      <th>mean</th>\n",
       "      <td>4093.833333</td>\n",
       "      <td>105.833333</td>\n",
       "      <td>7774.833333</td>\n",
       "    </tr>\n",
       "    <tr>\n",
       "      <th>std</th>\n",
       "      <td>2570.798441</td>\n",
       "      <td>73.148919</td>\n",
       "      <td>3820.332790</td>\n",
       "    </tr>\n",
       "    <tr>\n",
       "      <th>min</th>\n",
       "      <td>1048.000000</td>\n",
       "      <td>20.000000</td>\n",
       "      <td>2091.000000</td>\n",
       "    </tr>\n",
       "    <tr>\n",
       "      <th>25%</th>\n",
       "      <td>2134.000000</td>\n",
       "      <td>30.750000</td>\n",
       "      <td>4549.500000</td>\n",
       "    </tr>\n",
       "    <tr>\n",
       "      <th>50%</th>\n",
       "      <td>3284.000000</td>\n",
       "      <td>94.000000</td>\n",
       "      <td>7465.000000</td>\n",
       "    </tr>\n",
       "    <tr>\n",
       "      <th>75%</th>\n",
       "      <td>5826.250000</td>\n",
       "      <td>166.750000</td>\n",
       "      <td>10927.500000</td>\n",
       "    </tr>\n",
       "    <tr>\n",
       "      <th>max</th>\n",
       "      <td>9502.000000</td>\n",
       "      <td>232.000000</td>\n",
       "      <td>14210.000000</td>\n",
       "    </tr>\n",
       "  </tbody>\n",
       "</table>\n",
       "</div>"
      ],
      "text/plain": [
       "         Recovered      Deaths     Confirmed\n",
       "count    30.000000   30.000000     30.000000\n",
       "mean   4093.833333  105.833333   7774.833333\n",
       "std    2570.798441   73.148919   3820.332790\n",
       "min    1048.000000   20.000000   2091.000000\n",
       "25%    2134.000000   30.750000   4549.500000\n",
       "50%    3284.000000   94.000000   7465.000000\n",
       "75%    5826.250000  166.750000  10927.500000\n",
       "max    9502.000000  232.000000  14210.000000"
      ]
     },
     "execution_count": 28,
     "metadata": {},
     "output_type": "execute_result"
    }
   ],
   "source": [
    "data_haryana=df.loc[df['State'] == \"Haryana\"]\n",
    "data_haryana.describe()"
   ]
  },
  {
   "cell_type": "markdown",
   "metadata": {},
   "source": [
    "# A Plot for Delhi and it's neighbouring of DELHI"
   ]
  },
  {
   "cell_type": "code",
   "execution_count": 33,
   "metadata": {},
   "outputs": [
    {
     "data": {
      "image/png": "[encoded data removed]",
      "text/plain": [
       "<Figure size 432x288 with 1 Axes>"
      ]
     },
     "metadata": {
      "needs_background": "light"
     },
     "output_type": "display_data"
    }
   ],
   "source": [
    "import numpy as np\n",
    "States_UT = ('New Delhi','Uttar Pradesh','Haryana')\n",
    "y_pos = np.arange(len(States_UT))\n",
    "mean_confirmed_cases = [46403.7,14319.4,7774.8]\n",
    "plt.bar(y_pos, mean_confirmed_cases)\n",
    "plt.xticks(y_pos, States_UT)\n",
    "plt.ylabel(\"Confirmed\")\n",
    "plt.xlabel('States')\n",
    "plt.title('Mean of Confirmed')\n",
    "plt.savefig('plt_plot.png')\n",
    "plt.show()"
   ]
  },
  {
   "cell_type": "code",
   "execution_count": null,
   "metadata": {},
   "outputs": [],
   "source": []
  }
 ],
 "metadata": {
  "kernelspec": {
   "display_name": "Python 3",
   "language": "python",
   "name": "python3"
  },
  "language_info": {
   "codemirror_mode": {
    "name": "ipython",
    "version": 3
   },
   "file_extension": ".py",
   "mimetype": "text/x-python",
   "name": "python",
   "nbconvert_exporter": "python",
   "pygments_lexer": "ipython3",
   "version": "3.7.6"
  }
 },
 "nbformat": 4,
 "nbformat_minor": 4
}
