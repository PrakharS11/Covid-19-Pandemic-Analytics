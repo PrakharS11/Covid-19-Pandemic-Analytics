{
 "cells": [
  {
   "cell_type": "raw",
   "metadata": {},
   "source": []
  },
  {
   "cell_type": "code",
   "execution_count": 5,
   "metadata": {},
   "outputs": [],
   "source": [
    "district=\"mumbai\"\n",
    "population=20411000 #current metro area population in 2020\n",
    "infected=136596     #infected total till date\n",
    "recovered=678890    #recovered till date\n",
    "deaths=57320        #death till date\n",
    "\n",
    "def display():\n",
    "    print(\"District: {}\".format(district))\n",
    "    print(\"Population: {}\".format(population))\n",
    "    print(\"Infected: {}\".format(infected))\n",
    "    print(\"Recovered: {}\".format(recovered))\n",
    "    print(\"Deaths: {}\".format(deaths))\n",
    "\n",
    "def ifr(deaths,infected):     #Infection Fatality Rate\n",
    "    ifr=(deaths/infected)*100\n",
    "    print(\"IFR(Infection Fatality Rate)\")\n",
    "    print(\"{}%\".format(ifr))\n",
    "\n",
    "    \n",
    "    \n",
    "def cmr(deaths,population):    #Crude Mortality Rate\n",
    "    cmr=(deaths/population)*100000\n",
    "    print(\"CMR(Curde Mortality Rate):\")\n",
    "    print(\"{} resident deaths per 100,000 population in Mumbai\".format(cmr))\n",
    "    \n",
    "    "
   ]
  },
  {
   "cell_type": "code",
   "execution_count": 6,
   "metadata": {},
   "outputs": [
    {
     "name": "stdout",
     "output_type": "stream",
     "text": [
      "District: mumbai\n",
      "Population: 20411000\n",
      "Infected: 136596\n",
      "Recovered: 678890\n",
      "Deaths: 57320\n",
      "IFR(Infection Fatality Rate)\n",
      "41.96316143957363%\n",
      "CMR(Curde Mortality Rate):\n",
      "280.8289647738964 resident deaths per 100,000 population in Mumbai\n"
     ]
    }
   ],
   "source": [
    "display()\n",
    "ifr(deaths,infected)\n",
    "cmr(deaths,population)"
   ]
  },
  {
   "cell_type": "code",
   "execution_count": null,
   "metadata": {},
   "outputs": [],
   "source": []
  },
  {
   "cell_type": "code",
   "execution_count": null,
   "metadata": {},
   "outputs": [],
   "source": []
  }
 ],
 "metadata": {
  "kernelspec": {
   "display_name": "Python 3",
   "language": "python",
   "name": "python3"
  },
  "language_info": {
   "codemirror_mode": {
    "name": "ipython",
    "version": 3
   },
   "file_extension": ".py",
   "mimetype": "text/x-python",
   "name": "python",
   "nbconvert_exporter": "python",
   "pygments_lexer": "ipython3",
   "version": "3.7.6"
  }
 },
 "nbformat": 4,
 "nbformat_minor": 4
}
