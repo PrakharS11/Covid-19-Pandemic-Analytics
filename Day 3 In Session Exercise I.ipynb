{
 "cells": [
  {
   "cell_type": "markdown",
   "metadata": {},
   "source": [
    "# Import DELHI's data from COVID 19 dataset both csv file and xls file and perform the operation of extraction."
   ]
  },
  {
   "cell_type": "code",
   "execution_count": null,
   "metadata": {},
   "outputs": [],
   "source": []
  },
  {
   "cell_type": "markdown",
   "metadata": {},
   "source": [
    "# Import covid 19 dataset csv file "
   ]
  },
  {
   "cell_type": "code",
   "execution_count": 83,
   "metadata": {
    "scrolled": true
   },
   "outputs": [
    {
     "data": {
      "text/html": [
       "<div>\n",
       "<style scoped>\n",
       "    .dataframe tbody tr th:only-of-type {\n",
       "        vertical-align: middle;\n",
       "    }\n",
       "\n",
       "    .dataframe tbody tr th {\n",
       "        vertical-align: top;\n",
       "    }\n",
       "\n",
       "    .dataframe thead th {\n",
       "        text-align: right;\n",
       "    }\n",
       "</style>\n",
       "<table border=\"1\" class=\"dataframe\">\n",
       "  <thead>\n",
       "    <tr style=\"text-align: right;\">\n",
       "      <th></th>\n",
       "      <th>Sno</th>\n",
       "      <th>Date</th>\n",
       "      <th>Time</th>\n",
       "      <th>State/UnionTerritory</th>\n",
       "      <th>ConfirmedIndianNational</th>\n",
       "      <th>ConfirmedForeignNational</th>\n",
       "      <th>Cured</th>\n",
       "      <th>Deaths</th>\n",
       "      <th>Confirmed</th>\n",
       "    </tr>\n",
       "  </thead>\n",
       "  <tbody>\n",
       "    <tr>\n",
       "      <th>34</th>\n",
       "      <td>35</td>\n",
       "      <td>2/3/2020</td>\n",
       "      <td>6:00 PM</td>\n",
       "      <td>Delhi</td>\n",
       "      <td>1</td>\n",
       "      <td>0</td>\n",
       "      <td>0</td>\n",
       "      <td>0</td>\n",
       "      <td>1</td>\n",
       "    </tr>\n",
       "    <tr>\n",
       "      <th>38</th>\n",
       "      <td>39</td>\n",
       "      <td>3/3/2020</td>\n",
       "      <td>6:00 PM</td>\n",
       "      <td>Delhi</td>\n",
       "      <td>1</td>\n",
       "      <td>0</td>\n",
       "      <td>0</td>\n",
       "      <td>0</td>\n",
       "      <td>1</td>\n",
       "    </tr>\n",
       "    <tr>\n",
       "      <th>42</th>\n",
       "      <td>43</td>\n",
       "      <td>4/3/2020</td>\n",
       "      <td>6:00 PM</td>\n",
       "      <td>Delhi</td>\n",
       "      <td>1</td>\n",
       "      <td>0</td>\n",
       "      <td>0</td>\n",
       "      <td>0</td>\n",
       "      <td>1</td>\n",
       "    </tr>\n",
       "    <tr>\n",
       "      <th>45</th>\n",
       "      <td>46</td>\n",
       "      <td>5/3/2020</td>\n",
       "      <td>6:00 PM</td>\n",
       "      <td>Delhi</td>\n",
       "      <td>2</td>\n",
       "      <td>0</td>\n",
       "      <td>0</td>\n",
       "      <td>0</td>\n",
       "      <td>2</td>\n",
       "    </tr>\n",
       "    <tr>\n",
       "      <th>51</th>\n",
       "      <td>52</td>\n",
       "      <td>6/3/2020</td>\n",
       "      <td>6:00 PM</td>\n",
       "      <td>Delhi</td>\n",
       "      <td>3</td>\n",
       "      <td>0</td>\n",
       "      <td>0</td>\n",
       "      <td>0</td>\n",
       "      <td>3</td>\n",
       "    </tr>\n",
       "  </tbody>\n",
       "</table>\n",
       "</div>"
      ],
      "text/plain": [
       "    Sno      Date     Time State/UnionTerritory ConfirmedIndianNational  \\\n",
       "34   35  2/3/2020  6:00 PM                Delhi                       1   \n",
       "38   39  3/3/2020  6:00 PM                Delhi                       1   \n",
       "42   43  4/3/2020  6:00 PM                Delhi                       1   \n",
       "45   46  5/3/2020  6:00 PM                Delhi                       2   \n",
       "51   52  6/3/2020  6:00 PM                Delhi                       3   \n",
       "\n",
       "   ConfirmedForeignNational  Cured  Deaths  Confirmed  \n",
       "34                        0      0       0          1  \n",
       "38                        0      0       0          1  \n",
       "42                        0      0       0          1  \n",
       "45                        0      0       0          2  \n",
       "51                        0      0       0          3  "
      ]
     },
     "execution_count": 83,
     "metadata": {},
     "output_type": "execute_result"
    }
   ],
   "source": [
    "#loading dataset\n",
    "import pandas as pd   \n",
    "df=pd.read_csv('covid_19_india(statistics).csv')#Importing Data\n",
    "data_delhi=df.loc[df['State/UnionTerritory'] == \"Delhi\"]  \n",
    "data_delhi.head()   #Exporting Data"
   ]
  },
  {
   "cell_type": "markdown",
   "metadata": {},
   "source": []
  },
  {
   "cell_type": "code",
   "execution_count": 84,
   "metadata": {},
   "outputs": [
    {
     "name": "stdout",
     "output_type": "stream",
     "text": [
      "Index(['Sno', 'Date', 'Time', 'State/UnionTerritory',\n",
      "       'ConfirmedIndianNational', 'ConfirmedForeignNational', 'Cured',\n",
      "       'Deaths', 'Confirmed'],\n",
      "      dtype='object')\n"
     ]
    }
   ],
   "source": [
    "# Extracting all the columns using .keys() funtion\n",
    "cols=data_delhi.keys()\n",
    "print(cols)"
   ]
  },
  {
   "cell_type": "code",
   "execution_count": null,
   "metadata": {},
   "outputs": [],
   "source": []
  },
  {
   "cell_type": "markdown",
   "metadata": {},
   "source": [
    "# Import covid 19 dataset xls file"
   ]
  },
  {
   "cell_type": "code",
   "execution_count": 82,
   "metadata": {},
   "outputs": [
    {
     "name": "stdout",
     "output_type": "stream",
     "text": [
      "Requirement already satisfied: xlrd in c:\\users\\sony\\anaconda3\\lib\\site-packages (1.2.0)\n",
      "Delhi\n",
      "3820\n",
      "9\n"
     ]
    }
   ],
   "source": [
    "#loading dataset xlrd\n",
    "! pip install xlrd\n",
    "import xlrd\n",
    "\n",
    "#Give the location of the file\n",
    "wb=xlrd.open_workbook('covid_19_india(statistics).xlsx')\n",
    "sheet=wb.sheet_by_index(0)\n",
    "sheet.cell_value(0,0)\n",
    "print(sheet.cell_value(452,3))\n",
    "\n",
    "#Extracting number of rows\n",
    "print(sheet.nrows)\n",
    "print(sheet.ncols)"
   ]
  },
  {
   "cell_type": "code",
   "execution_count": 81,
   "metadata": {},
   "outputs": [
    {
     "name": "stdout",
     "output_type": "stream",
     "text": [
      "No of rows= 3820\n",
      "No of cols= 9\n",
      "<Worksheet \"corona\">\n"
     ]
    }
   ],
   "source": [
    "#loading dataset openpyxl\n",
    "import openpyxl\n",
    "wb_obj=openpyxl.load_workbook('covid_19_india(statistics).xlsx')\n",
    "sheet_obj=wb_obj.active\n",
    "\n",
    "#print the total number of rows and column\n",
    "print(\"No of rows=\",sheet_obj.max_row)\n",
    "print(\"No of cols=\",sheet_obj.max_column)\n",
    "print(sheet_obj)"
   ]
  },
  {
   "cell_type": "code",
   "execution_count": null,
   "metadata": {},
   "outputs": [],
   "source": []
  }
 ],
 "metadata": {
  "kernelspec": {
   "display_name": "Python 3",
   "language": "python",
   "name": "python3"
  },
  "language_info": {
   "codemirror_mode": {
    "name": "ipython",
    "version": 3
   },
   "file_extension": ".py",
   "mimetype": "text/x-python",
   "name": "python",
   "nbconvert_exporter": "python",
   "pygments_lexer": "ipython3",
   "version": "3.7.6"
  }
 },
 "nbformat": 4,
 "nbformat_minor": 4
}
