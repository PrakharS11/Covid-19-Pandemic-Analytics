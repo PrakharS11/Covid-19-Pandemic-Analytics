{
 "cells": [
  {
   "cell_type": "markdown",
   "metadata": {},
   "source": [
    "# Populate these lists, tuple and the dictionary with all state data to be discovered"
   ]
  },
  {
   "cell_type": "code",
   "execution_count": 14,
   "metadata": {},
   "outputs": [
    {
     "name": "stdout",
     "output_type": "stream",
     "text": [
      "State wise Infected COVID19 cases:\n",
      "Andhra Pradesh: 16097\n",
      "Arunachal Pradesh: 195\n",
      "Assam: 8955\n",
      "Bihar: 10391\n",
      "Chhattisgarh: 3013\n",
      "Goa: 1482\n",
      "Gujarat: 33999\n",
      "Haryana: 15509\n",
      "Himanchal Pradesh: 1015\n",
      "Jharkhand: 2525\n",
      "Karnataka: 18016\n",
      "Kerela: 4753\n",
      "Madhya Pradesh: 14106\n",
      "Maharashtra: 186626\n",
      "Manipur: 1279\n",
      "Meghalaya: 56\n",
      "Mizoram: 160\n",
      "Nagaland: 535\n",
      "Odisha: 7547\n",
      "Punjab: 5784\n",
      "Rajasthan: 18662\n",
      "Sikkim: 101\n",
      "Tamil Nadu: 98392\n",
      "Telangana: 17357\n",
      "Tripura: 1402\n",
      "Uttar Pradesh: 24825\n",
      "Uttarakhand: 2984\n",
      "West Bengal: 19819\n",
      "Andaman and Nicobar: 100\n",
      "Chandigarh: 450\n",
      "Dadar & Nagar Haveli: 203\n",
      "Daman & Diu: 36\n",
      "Delhi: 92175\n",
      "Jammu & Kashmir: 990\n",
      "Ladakh: 990\n",
      "Lakshdweep: 0\n",
      "Puducherry: 802\n"
     ]
    }
   ],
   "source": [
    "\"data structures from corona live data from MyGov\"\n",
    "list1=[\"Andhra Pradesh\",\"Arunachal Pradesh\",\"Assam\",\"Bihar\",\"Chhattisgarh\",\"Goa\",\"Gujarat\",\"Haryana\",\"Himanchal Pradesh\",\"Jharkhand\",\"Karnataka\",\"Kerela\",\"Madhya Pradesh\",\"Maharashtra\",\"Manipur\",\"Meghalaya\",\"Mizoram\",\"Nagaland\",\"Odisha\",\"Punjab\",\"Rajasthan\",\"Sikkim\",\"Tamil Nadu\",\"Telangana\",\"Tripura\",\"Uttar Pradesh\",\"Uttarakhand\",\"West Bengal\",    \"Andaman and Nicobar\",\"Chandigarh\",\"Dadar & Nagar Haveli\",\"Daman & Diu\",\"Delhi\",\"Jammu & Kashmir\",\"Ladakh\",\"Lakshdweep\",\"Puducherry\"]\n",
    "list2=[16097,195,8955,10391,3013,1482,33999,15509,1015,2525,18016,4753,14106,186626,1279,56,160,535,7547,5784,18662,101,98392,17357,1402,24825,2984,19819,100,450,203,36,92175,990,990,0,802]\n",
    "print(\"State wise Infected COVID19 cases:\")\n",
    "for i in range(len(list1)):\n",
    " print(list1[i]+\": \"+str(list2[i]))"
   ]
  },
  {
   "cell_type": "code",
   "execution_count": 15,
   "metadata": {},
   "outputs": [
    {
     "name": "stdout",
     "output_type": "stream",
     "text": [
      "State wise Recovered COVID19 cases:\n",
      "Andhra Pradesh: 7313\n",
      "Arunachal Pradesh: 66\n",
      "Assam: 6106\n",
      "Bihar: 8020\n",
      "Chhattisgarh: 2385\n",
      "Goa: 734\n",
      "Gujarat: 24593\n",
      "Haryana: 11019\n",
      "Himanchal Pradesh: 628\n",
      "Jharkhand: 1983\n",
      "Karnataka: 8334\n",
      "Kerela: 2640\n",
      "Madhya Pradesh: 10815\n",
      "Maharashtra: 101172\n",
      "Manipur: 617\n",
      "Meghalaya: 42\n",
      "Mizoram: 126\n",
      "Nagaland: 182\n",
      "Odisha: 5502\n",
      "Punjab: 4144\n",
      "Rajasthan: 14948\n",
      "Sikkim: 53\n",
      "Tamil Nadu: 56021\n",
      "Telangana: 9069\n",
      "Tripura: 1146\n",
      "Uttar Pradesh: 17221\n",
      "Uttarakhand: 2405\n",
      "West Bengal: 13037\n",
      "Andaman and Nicobar: 51\n",
      "Chandigarh: 389\n",
      "Dadar & Nagar Haveli: 49\n",
      "Daman & Diu: 40\n",
      "Delhi: 63007\n",
      "Jammu & Kashmir: 4974\n",
      "Ladakh: 730\n",
      "Lakshdweep: 0\n",
      "Puducherry: 802\n"
     ]
    }
   ],
   "source": [
    "tuple1=(\"Andhra Pradesh\",\"Arunachal Pradesh\",\"Assam\",\"Bihar\",\"Chhattisgarh\",\"Goa\",\"Gujarat\",\"Haryana\",\"Himanchal Pradesh\",\"Jharkhand\",\"Karnataka\",\"Kerela\",\"Madhya Pradesh\",\"Maharashtra\",\"Manipur\",\"Meghalaya\",\"Mizoram\",\"Nagaland\",\"Odisha\",\"Punjab\",\"Rajasthan\",\"Sikkim\",\"Tamil Nadu\",\"Telangana\",\"Tripura\",\"Uttar Pradesh\",\"Uttarakhand\",\"West Bengal\",    \"Andaman and Nicobar\",\"Chandigarh\",\"Dadar & Nagar Haveli\",\"Daman & Diu\",\"Delhi\",\"Jammu & Kashmir\",\"Ladakh\",\"Lakshdweep\",\"Puducherry\")\n",
    "tuple2=(7313,66,6106,8020,2385,734,24593,11019,628,1983,8334,2640,10815,101172,617,42,126,182,5502,4144,14948,53,56021,9069,1146,17221,2405,13037,51,389,49,40,63007,4974,730,0,802)\n",
    "print(\"State wise Recovered COVID19 cases:\")\n",
    "for i in range(len(tuple1)):\n",
    " print(tuple1[i]+\": \"+str(tuple2[i]))"
   ]
  },
  {
   "cell_type": "markdown",
   "metadata": {},
   "source": [
    " "
   ]
  },
  {
   "cell_type": "code",
   "execution_count": 16,
   "metadata": {},
   "outputs": [
    {
     "name": "stdout",
     "output_type": "stream",
     "text": [
      "State wise Active COVID19 cases\n",
      "Andhra Pradesh :  8586\n",
      "Arunachal Pradesh :  128\n",
      "Assam :  2895\n",
      "Bihar :  2374\n",
      "Chhattisgarh :  614\n",
      "Goa :  744\n",
      "Gujarat :  7434\n",
      "Haryana :  4839\n",
      "Himanchal Pradesh :  376\n",
      "Jharkhand :  586\n",
      "Karnataka :  9410\n",
      "Kerela :  2088\n",
      "Madhya Pradesh :  2702\n",
      "Maharashtra :  77276\n",
      "Manipur :  662\n",
      "Meghalaya :  13\n",
      "Mizoram :  36\n",
      "Nagaland :  319\n",
      "Odisha :  2016\n",
      "Punjab :  1488\n",
      "Rajasthan :  3284\n",
      "Sikkim :  49\n",
      "Tamil Nadu :  41050\n",
      "Telangana :  9226\n",
      "Tripura :  288\n",
      "Uttar Pradesh :  6869\n",
      "Uttarakhand :  537\n",
      "West Bengal :  6083\n",
      "Andaman and Nicobar :  58\n",
      "Chandigarh :  55\n",
      "Dadar & Nagar Haveli :  100\n",
      "Daman & Diu :  41\n",
      "Delhi :  26304\n",
      "Jammu & Kashmir :  2760\n",
      "Ladakh :  259\n",
      "Lakshdweep :  0\n",
      "Puducherry :  459\n"
     ]
    }
   ],
   "source": [
    "Dictionary={\"Andhra Pradesh\":8586,\"Arunachal Pradesh\":128,\"Assam\":2895,\"Bihar\":2374,\"Chhattisgarh\":614,\"Goa\":744,\"Gujarat\":7434,\"Haryana\":4839,\"Himanchal Pradesh\":376,\"Jharkhand\":586,\"Karnataka\":9410,\"Kerela\":2088,\"Madhya Pradesh\":2702,\"Maharashtra\":77276,\"Manipur\":662,\"Meghalaya\":13,\"Mizoram\":36,\"Nagaland\":319,\"Odisha\":2016,\"Punjab\":1488,\"Rajasthan\":3284,\"Sikkim\":49,\"Tamil Nadu\":41050,\"Telangana\":9226,\"Tripura\":288,\"Uttar Pradesh\":6869,\"Uttarakhand\":537,\"West Bengal\":6083,\"Andaman and Nicobar\":58,\"Chandigarh\":55,\"Dadar & Nagar Haveli\":100,\"Daman & Diu\":41,\"Delhi\":26304,\"Jammu & Kashmir\":2760,\"Ladakh\":259,\"Lakshdweep\":0,\"Puducherry\":459}\n",
    "print(\"State wise Active COVID19 cases\")\n",
    "for keys,values in Dictionary.items():\n",
    " print(keys,\": \",values)"
   ]
  },
  {
   "cell_type": "code",
   "execution_count": null,
   "metadata": {},
   "outputs": [],
   "source": []
  }
 ],
 "metadata": {
  "kernelspec": {
   "display_name": "Python 3",
   "language": "python",
   "name": "python3"
  },
  "language_info": {
   "codemirror_mode": {
    "name": "ipython",
    "version": 3
   },
   "file_extension": ".py",
   "mimetype": "text/x-python",
   "name": "python",
   "nbconvert_exporter": "python",
   "pygments_lexer": "ipython3",
   "version": "3.7.6"
  }
 },
 "nbformat": 4,
 "nbformat_minor": 4
}
