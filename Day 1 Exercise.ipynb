{
 "cells": [
  {
   "cell_type": "code",
   "execution_count": 7,
   "metadata": {},
   "outputs": [],
   "source": [
    "district=\"Gwalior\"\n",
    "infected_total_till_date=1234\n",
    "infected_on_10_6_2020=12\n",
    "infected_on_11_6_2020=2\n",
    "infected_on_12_6_2020=13\n"
   ]
  },
  {
   "cell_type": "code",
   "execution_count": 8,
   "metadata": {},
   "outputs": [],
   "source": [
    "percentage_change=((infected_on_12_6_2020-infected_on_10_6_2020)/infected_on_12_6_2020)*100"
   ]
  },
  {
   "cell_type": "code",
   "execution_count": 9,
   "metadata": {},
   "outputs": [
    {
     "name": "stdout",
     "output_type": "stream",
     "text": [
      "district: Gwalior\n",
      "infected till date= 1234\n",
      "infected on date 10 june 2020 12\n",
      "infected on date 11 june 2020 2\n",
      "infected on date 12 june 2020 13\n",
      "percentage change in infected given last three days = 7.6923076923076925\n"
     ]
    }
   ],
   "source": [
    "print(\"district:\",district)\n",
    "print(\"infected till date=\",infected_total_till_date)\n",
    "print(\"infected on date 10 june 2020\",infected_on_10_6_2020)\n",
    "print(\"infected on date 11 june 2020\",infected_on_11_6_2020)\n",
    "print(\"infected on date 12 june 2020\",infected_on_12_6_2020)\n",
    "print(\"percentage change in infected given last three days =\",percentage_change)"
   ]
  },
  {
   "cell_type": "code",
   "execution_count": null,
   "metadata": {},
   "outputs": [],
   "source": []
  }
 ],
 "metadata": {
  "kernelspec": {
   "display_name": "Python 3",
   "language": "python",
   "name": "python3"
  },
  "language_info": {
   "codemirror_mode": {
    "name": "ipython",
    "version": 3
   },
   "file_extension": ".py",
   "mimetype": "text/x-python",
   "name": "python",
   "nbconvert_exporter": "python",
   "pygments_lexer": "ipython3",
   "version": "3.7.6"
  }
 },
 "nbformat": 4,
 "nbformat_minor": 4
}
