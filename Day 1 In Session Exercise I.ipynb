{
 "cells": [
  {
   "cell_type": "markdown",
   "metadata": {},
   "source": [
    "# Report the % change in the infected in given three days"
   ]
  },
  {
   "cell_type": "code",
   "execution_count": 10,
   "metadata": {},
   "outputs": [
    {
     "name": "stdout",
     "output_type": "stream",
     "text": [
      "district: Gwalior\n",
      "infected till date= 1234\n",
      "infected on date 10 june 2020 12\n",
      "infected on date 11 june 2020 2\n",
      "infected on date 12 june 2020 13\n",
      "percentage change in infected given last three days = 8.333333333333332\n"
     ]
    }
   ],
   "source": [
    "district=\"Gwalior\"\n",
    "\n",
    "w=1234    #infected till date\n",
    "x=12      #infected on date 10 june 2020\n",
    "y=2       #infected on date 11 june 2020\n",
    "z=13      #infected on date 12 june 2020\n",
    "\n",
    "percentage_change=((z-x)/x)*100\n",
    "\n",
    "print(\"district:\",district)\n",
    "print(\"infected till date=\",w)\n",
    "print(\"infected on date 10 june 2020\",x)\n",
    "print(\"infected on date 11 june 2020\",y)\n",
    "print(\"infected on date 12 june 2020\",z)\n",
    "print(\"percentage change in infected given last three days =\",percentage_change)"
   ]
  },
  {
   "cell_type": "code",
   "execution_count": 3,
   "metadata": {},
   "outputs": [],
   "source": []
  },
  {
   "cell_type": "code",
   "execution_count": null,
   "metadata": {},
   "outputs": [],
   "source": []
  },
  {
   "cell_type": "code",
   "execution_count": null,
   "metadata": {},
   "outputs": [],
   "source": []
  }
 ],
 "metadata": {
  "kernelspec": {
   "display_name": "Python 3",
   "language": "python",
   "name": "python3"
  },
  "language_info": {
   "codemirror_mode": {
    "name": "ipython",
    "version": 3
   },
   "file_extension": ".py",
   "mimetype": "text/x-python",
   "name": "python",
   "nbconvert_exporter": "python",
   "pygments_lexer": "ipython3",
   "version": "3.7.6"
  }
 },
 "nbformat": 4,
 "nbformat_minor": 4
}
