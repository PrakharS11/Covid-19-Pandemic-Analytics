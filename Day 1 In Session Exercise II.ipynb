{
 "cells": [
  {
   "cell_type": "markdown",
   "metadata": {},
   "source": [
    "# Create sample (5 elements each) data structures from corona live data from MyGov"
   ]
  },
  {
   "cell_type": "markdown",
   "metadata": {},
   "source": [
    "# List"
   ]
  },
  {
   "cell_type": "code",
   "execution_count": 1,
   "metadata": {},
   "outputs": [
    {
     "name": "stdout",
     "output_type": "stream",
     "text": [
      "State wise Infected COVID19 cases:\n",
      "Maharashtra: 180298\n",
      "Tamil Nadu: 94049\n",
      "Delhi: 89802\n",
      "Gujarat: 33232\n",
      "Uttar Pradesh: 24056\n"
     ]
    }
   ],
   "source": [
    "list1=[\"Maharashtra\",\"Tamil Nadu\",\"Delhi\",\"Gujarat\",\"Uttar Pradesh\"]\n",
    "list2=[180298,94049,89802,33232,24056]\n",
    "print(\"State wise Infected COVID19 cases:\")\n",
    "for i in range(len(list1)):\n",
    " print(list1[i]+\": \"+str(list2[i]))"
   ]
  },
  {
   "cell_type": "markdown",
   "metadata": {},
   "source": [
    "# Tuple"
   ]
  },
  {
   "cell_type": "code",
   "execution_count": 2,
   "metadata": {},
   "outputs": [
    {
     "name": "stdout",
     "output_type": "stream",
     "text": [
      "State wise Recovered COVID19 cases:\n",
      "Maharashtra: 93154\n",
      "Tamil Nadu: 52926\n",
      "Delhi: 59992\n",
      "Gujarat: 24030\n",
      "Uttar Pradesh: 16629\n"
     ]
    }
   ],
   "source": [
    "tuple1=(\"Maharashtra\",\"Tamil Nadu\",\"Delhi\",\"Gujarat\",\"Uttar Pradesh\")\n",
    "tuple2=[93154,52926,59992,24030,16629]\n",
    "print(\"State wise Recovered COVID19 cases:\")\n",
    "for i in range(len(tuple1)):\n",
    " print(tuple1[i]+\": \"+str(tuple2[i]))"
   ]
  },
  {
   "cell_type": "markdown",
   "metadata": {},
   "source": [
    "# Dictionary"
   ]
  },
  {
   "cell_type": "code",
   "execution_count": 3,
   "metadata": {},
   "outputs": [
    {
     "name": "stdout",
     "output_type": "stream",
     "text": [
      "State wise Active COVID19 cases:\n",
      "Maharashtra :  79091\n",
      "Tamil Nadu :  39589\n",
      "Delhi :  27007\n",
      "Gujarat :  7335\n",
      "Uttar Pradesh :  6709\n"
     ]
    }
   ],
   "source": [
    "Dictionary={\"Maharashtra\":79091,\"Tamil Nadu\":39589,\"Delhi\":27007,\"Gujarat\":7335,\"Uttar Pradesh\":6709}\n",
    "print(\"State wise Active COVID19 cases:\")\n",
    "for keys,values in Dictionary.items():\n",
    " print(keys,\": \",values)"
   ]
  },
  {
   "cell_type": "code",
   "execution_count": null,
   "metadata": {},
   "outputs": [],
   "source": []
  }
 ],
 "metadata": {
  "kernelspec": {
   "display_name": "Python 3",
   "language": "python",
   "name": "python3"
  },
  "language_info": {
   "codemirror_mode": {
    "name": "ipython",
    "version": 3
   },
   "file_extension": ".py",
   "mimetype": "text/x-python",
   "name": "python",
   "nbconvert_exporter": "python",
   "pygments_lexer": "ipython3",
   "version": "3.7.6"
  }
 },
 "nbformat": 4,
 "nbformat_minor": 4
}
