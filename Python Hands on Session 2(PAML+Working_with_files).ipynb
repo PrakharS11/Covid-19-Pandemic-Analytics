{
 "cells": [
  {
   "cell_type": "markdown",
   "metadata": {},
   "source": [
    "# Demo -working of files "
   ]
  },
  {
   "cell_type": "markdown",
   "metadata": {
    "collapsed": true
   },
   "source": [
    "Files are named locations on disk to store related information. They are used to permanently store data in a non-volatile memory (e.g. hard disk).\n",
    "To read or write in file we need to open the files in appropraite mode once operation is completed , it must be closed.  \n",
    "Hence, in Python, a file operation takes place in the following order:\n",
    "<ol>\n",
    "<li>Open a file</li>\n",
    "<li>Read or write (perform operation)</li>\n",
    "<li>Close the file</li>\n",
    "</ol>\n"
   ]
  },
  {
   "cell_type": "code",
   "execution_count": 5,
   "metadata": {
    "collapsed": true
   },
   "outputs": [],
   "source": [
    "File1=open(\"Social_Network_Ads.csv\") # open file in current directory"
   ]
  },
  {
   "cell_type": "code",
   "execution_count": 6,
   "metadata": {
    "collapsed": true
   },
   "outputs": [],
   "source": [
    "File2=open(\"E:\\PyScript\\Auto.csv\") #specifying full path"
   ]
  },
  {
   "cell_type": "markdown",
   "metadata": {},
   "source": [
    "We can specify the mode while opening a file. In mode, we specify whether we want to read r, write w or append a to the file. We can also specify if we want to open the file in text mode or binary mode.Files Modes are \n",
    "<ol>\n",
    "\n",
    " <li>r\tOpens a file for reading. (default)</li>\n",
    " <li>w\tOpens a file for writing. Creates a new file if it does not exist or truncates the file if it exists.</li>\n",
    " <li>a\tOpens a file for appending at the end of the file without truncating it. Creates a new file if it does not exist.</li>\n",
    " <li>b\tOpens in binary mode.</li>\n",
    " <li>'+'\tOpens a file for updating (reading and writing)</li>\n",
    " </ol>"
   ]
  },
  {
   "cell_type": "code",
   "execution_count": 7,
   "metadata": {
    "collapsed": true
   },
   "outputs": [],
   "source": [
    "File1 = open(\"Social_Network_Ads.csv\")   # equivalent to 'r' or 'rt'\n",
    "File1 = open(\"Social_Network_Ads.csv\",'w')  # write in text mode\n",
    "File1 = open(\"LPU.jpg\",'r+b') # read and write in binary mode"
   ]
  },
  {
   "cell_type": "markdown",
   "metadata": {},
   "source": [
    "when working with files in text mode, it is highly recommended to specify the encoding type."
   ]
  },
  {
   "cell_type": "code",
   "execution_count": 8,
   "metadata": {
    "collapsed": true
   },
   "outputs": [],
   "source": [
    "File1 = open(\"Social_Network_Ads.csv\",'r',encoding='utf-8')  # write in text mode"
   ]
  },
  {
   "cell_type": "markdown",
   "metadata": {},
   "source": [
    "# Closing Files in Python"
   ]
  },
  {
   "cell_type": "markdown",
   "metadata": {},
   "source": [
    "When we are done with performing operations on the file, we need to properly close the file. Closing a file will free up the resources that were tied with the file. <b><i>It is done using the close() method available in Python.</i></b>"
   ]
  },
  {
   "cell_type": "code",
   "execution_count": 10,
   "metadata": {
    "collapsed": true
   },
   "outputs": [],
   "source": [
    "File1 = open(\"Social_Network_Ads.csv\",'r',encoding='utf-8')  # write in text mode\n",
    "File1.close()"
   ]
  },
  {
   "cell_type": "markdown",
   "metadata": {},
   "source": [
    "# Writing files with open"
   ]
  },
  {
   "cell_type": "markdown",
   "metadata": {},
   "source": [
    "In order to write into a file in Python, we need to open it in write w, append a or exclusive creation x mode. <b><i>Writing a string or sequence of bytes (for binary files) is done using the write() method.</i></b> This method returns the number of characters written to the file."
   ]
  },
  {
   "cell_type": "code",
   "execution_count": 11,
   "metadata": {},
   "outputs": [
    {
     "data": {
      "text/plain": [
       "13"
      ]
     },
     "execution_count": 11,
     "metadata": {},
     "output_type": "execute_result"
    }
   ],
   "source": [
    "File3 = open(\"Demo.txt\",'w')\n",
    "File3.write(\"This is line2\")"
   ]
  },
  {
   "cell_type": "code",
   "execution_count": 12,
   "metadata": {
    "collapsed": true
   },
   "outputs": [],
   "source": [
    "File3 = open(\"Demo.txt\",'r')"
   ]
  },
  {
   "cell_type": "code",
   "execution_count": 14,
   "metadata": {},
   "outputs": [
    {
     "data": {
      "text/plain": [
       "['This is line2']"
      ]
     },
     "execution_count": 14,
     "metadata": {},
     "output_type": "execute_result"
    }
   ],
   "source": [
    "File3.readlines()"
   ]
  },
  {
   "cell_type": "code",
   "execution_count": 15,
   "metadata": {
    "collapsed": true
   },
   "outputs": [],
   "source": [
    "with open(\"test.txt\",'w',encoding = 'utf-8') as f:\n",
    "   f.write(\"my first file\\n\")\n",
    "   f.write(\"This file\\n\\n\")\n",
    "   f.write(\"contains three lines\\n\")"
   ]
  },
  {
   "cell_type": "markdown",
   "metadata": {},
   "source": [
    "<b><i>This program will create a new file named test.txt in the current directory if it does not exist. If it does exist, it is overwritten.</i></b>"
   ]
  }
 ],
 "metadata": {
  "kernelspec": {
   "display_name": "Python 3",
   "language": "python",
   "name": "python3"
  },
  "language_info": {
   "codemirror_mode": {
    "name": "ipython",
    "version": 3
   },
   "file_extension": ".py",
   "mimetype": "text/x-python",
   "name": "python",
   "nbconvert_exporter": "python",
   "pygments_lexer": "ipython3",
   "version": "3.7.6"
  }
 },
 "nbformat": 4,
 "nbformat_minor": 2
}
