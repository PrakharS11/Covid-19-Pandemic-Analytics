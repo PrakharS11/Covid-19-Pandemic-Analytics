{
 "cells": [
  {
   "cell_type": "markdown",
   "metadata": {},
   "source": [
    "# <b><i>Its Confidence Building Session</i></b> "
   ]
  },
  {
   "cell_type": "code",
   "execution_count": 1,
   "metadata": {
    "collapsed": true
   },
   "outputs": [],
   "source": [
    "import pandas as pd "
   ]
  },
  {
   "cell_type": "code",
   "execution_count": 2,
   "metadata": {
    "collapsed": true
   },
   "outputs": [],
   "source": [
    "StateWiseCovid19=pd.read_csv(\"state_wise.csv\")"
   ]
  },
  {
   "cell_type": "code",
   "execution_count": 4,
   "metadata": {},
   "outputs": [
    {
     "data": {
      "text/html": [
       "<div>\n",
       "<style>\n",
       "    .dataframe thead tr:only-child th {\n",
       "        text-align: right;\n",
       "    }\n",
       "\n",
       "    .dataframe thead th {\n",
       "        text-align: left;\n",
       "    }\n",
       "\n",
       "    .dataframe tbody tr th {\n",
       "        vertical-align: top;\n",
       "    }\n",
       "</style>\n",
       "<table border=\"1\" class=\"dataframe\">\n",
       "  <thead>\n",
       "    <tr style=\"text-align: right;\">\n",
       "      <th></th>\n",
       "      <th>State</th>\n",
       "      <th>Confirmed</th>\n",
       "      <th>Recovered</th>\n",
       "      <th>Deaths</th>\n",
       "      <th>Active</th>\n",
       "      <th>Last_Updated_Time</th>\n",
       "      <th>Migrated_Other</th>\n",
       "      <th>State_code</th>\n",
       "      <th>Delta_Confirmed</th>\n",
       "      <th>Delta_Recovered</th>\n",
       "      <th>Delta_Deaths</th>\n",
       "      <th>State_Notes</th>\n",
       "    </tr>\n",
       "  </thead>\n",
       "  <tbody>\n",
       "    <tr>\n",
       "      <th>0</th>\n",
       "      <td>Total</td>\n",
       "      <td>649586</td>\n",
       "      <td>394390</td>\n",
       "      <td>18677</td>\n",
       "      <td>236453</td>\n",
       "      <td>04/07/2020 11:37:25</td>\n",
       "      <td>66</td>\n",
       "      <td>TT</td>\n",
       "      <td>-303</td>\n",
       "      <td>71</td>\n",
       "      <td>8</td>\n",
       "      <td>NaN</td>\n",
       "    </tr>\n",
       "    <tr>\n",
       "      <th>1</th>\n",
       "      <td>Maharashtra</td>\n",
       "      <td>192990</td>\n",
       "      <td>104687</td>\n",
       "      <td>8376</td>\n",
       "      <td>79911</td>\n",
       "      <td>03/07/2020 22:43:26</td>\n",
       "      <td>16</td>\n",
       "      <td>MH</td>\n",
       "      <td>0</td>\n",
       "      <td>0</td>\n",
       "      <td>0</td>\n",
       "      <td>16 cases were marked as non-covid deaths in MH...</td>\n",
       "    </tr>\n",
       "    <tr>\n",
       "      <th>2</th>\n",
       "      <td>Tamil Nadu</td>\n",
       "      <td>102721</td>\n",
       "      <td>58378</td>\n",
       "      <td>1385</td>\n",
       "      <td>42958</td>\n",
       "      <td>03/07/2020 18:47:28</td>\n",
       "      <td>0</td>\n",
       "      <td>TN</td>\n",
       "      <td>0</td>\n",
       "      <td>0</td>\n",
       "      <td>0</td>\n",
       "      <td>2 deaths cross notified to other states from C...</td>\n",
       "    </tr>\n",
       "    <tr>\n",
       "      <th>3</th>\n",
       "      <td>Delhi</td>\n",
       "      <td>94695</td>\n",
       "      <td>65624</td>\n",
       "      <td>2923</td>\n",
       "      <td>26148</td>\n",
       "      <td>03/07/2020 21:49:28</td>\n",
       "      <td>0</td>\n",
       "      <td>DL</td>\n",
       "      <td>0</td>\n",
       "      <td>0</td>\n",
       "      <td>0</td>\n",
       "      <td>Delhi bulletins in the morning, containing dat...</td>\n",
       "    </tr>\n",
       "    <tr>\n",
       "      <th>4</th>\n",
       "      <td>Gujarat</td>\n",
       "      <td>34686</td>\n",
       "      <td>24941</td>\n",
       "      <td>1905</td>\n",
       "      <td>7840</td>\n",
       "      <td>03/07/2020 20:38:27</td>\n",
       "      <td>0</td>\n",
       "      <td>GJ</td>\n",
       "      <td>0</td>\n",
       "      <td>0</td>\n",
       "      <td>0</td>\n",
       "      <td>NaN</td>\n",
       "    </tr>\n",
       "  </tbody>\n",
       "</table>\n",
       "</div>"
      ],
      "text/plain": [
       "         State  Confirmed  Recovered  Deaths  Active    Last_Updated_Time  \\\n",
       "0        Total     649586     394390   18677  236453  04/07/2020 11:37:25   \n",
       "1  Maharashtra     192990     104687    8376   79911  03/07/2020 22:43:26   \n",
       "2   Tamil Nadu     102721      58378    1385   42958  03/07/2020 18:47:28   \n",
       "3        Delhi      94695      65624    2923   26148  03/07/2020 21:49:28   \n",
       "4      Gujarat      34686      24941    1905    7840  03/07/2020 20:38:27   \n",
       "\n",
       "   Migrated_Other State_code  Delta_Confirmed  Delta_Recovered  Delta_Deaths  \\\n",
       "0              66         TT             -303               71             8   \n",
       "1              16         MH                0                0             0   \n",
       "2               0         TN                0                0             0   \n",
       "3               0         DL                0                0             0   \n",
       "4               0         GJ                0                0             0   \n",
       "\n",
       "                                         State_Notes  \n",
       "0                                                NaN  \n",
       "1  16 cases were marked as non-covid deaths in MH...  \n",
       "2  2 deaths cross notified to other states from C...  \n",
       "3  Delhi bulletins in the morning, containing dat...  \n",
       "4                                                NaN  "
      ]
     },
     "execution_count": 4,
     "metadata": {},
     "output_type": "execute_result"
    }
   ],
   "source": [
    "StateWiseCovid19.head()\n"
   ]
  },
  {
   "cell_type": "code",
   "execution_count": 5,
   "metadata": {},
   "outputs": [
    {
     "data": {
      "text/plain": [
       "pandas.core.frame.DataFrame"
      ]
     },
     "execution_count": 5,
     "metadata": {},
     "output_type": "execute_result"
    }
   ],
   "source": [
    "type(StateWiseCovid19)"
   ]
  },
  {
   "cell_type": "code",
   "execution_count": 6,
   "metadata": {},
   "outputs": [
    {
     "name": "stdout",
     "output_type": "stream",
     "text": [
      "<class 'pandas.core.frame.DataFrame'>\n",
      "RangeIndex: 38 entries, 0 to 37\n",
      "Data columns (total 12 columns):\n",
      "State                38 non-null object\n",
      "Confirmed            38 non-null int64\n",
      "Recovered            38 non-null int64\n",
      "Deaths               38 non-null int64\n",
      "Active               38 non-null int64\n",
      "Last_Updated_Time    38 non-null object\n",
      "Migrated_Other       38 non-null int64\n",
      "State_code           38 non-null object\n",
      "Delta_Confirmed      38 non-null int64\n",
      "Delta_Recovered      38 non-null int64\n",
      "Delta_Deaths         38 non-null int64\n",
      "State_Notes          12 non-null object\n",
      "dtypes: int64(8), object(4)\n",
      "memory usage: 3.6+ KB\n"
     ]
    }
   ],
   "source": [
    "StateWiseCovid19.info()"
   ]
  },
  {
   "cell_type": "code",
   "execution_count": 8,
   "metadata": {},
   "outputs": [],
   "source": [
    "missing_data=StateWiseCovid19.isnull()"
   ]
  },
  {
   "cell_type": "code",
   "execution_count": 9,
   "metadata": {},
   "outputs": [
    {
     "name": "stdout",
     "output_type": "stream",
     "text": [
      "State\n",
      "False    38\n",
      "Name: State, dtype: int64\n",
      "\n",
      "Confirmed\n",
      "False    38\n",
      "Name: Confirmed, dtype: int64\n",
      "\n",
      "Recovered\n",
      "False    38\n",
      "Name: Recovered, dtype: int64\n",
      "\n",
      "Deaths\n",
      "False    38\n",
      "Name: Deaths, dtype: int64\n",
      "\n",
      "Active\n",
      "False    38\n",
      "Name: Active, dtype: int64\n",
      "\n",
      "Last_Updated_Time\n",
      "False    38\n",
      "Name: Last_Updated_Time, dtype: int64\n",
      "\n",
      "Migrated_Other\n",
      "False    38\n",
      "Name: Migrated_Other, dtype: int64\n",
      "\n",
      "State_code\n",
      "False    38\n",
      "Name: State_code, dtype: int64\n",
      "\n",
      "Delta_Confirmed\n",
      "False    38\n",
      "Name: Delta_Confirmed, dtype: int64\n",
      "\n",
      "Delta_Recovered\n",
      "False    38\n",
      "Name: Delta_Recovered, dtype: int64\n",
      "\n",
      "Delta_Deaths\n",
      "False    38\n",
      "Name: Delta_Deaths, dtype: int64\n",
      "\n",
      "State_Notes\n",
      "True     26\n",
      "False    12\n",
      "Name: State_Notes, dtype: int64\n",
      "\n"
     ]
    }
   ],
   "source": [
    "for column in missing_data.columns.values.tolist():\n",
    "    print(column)\n",
    "    print (missing_data[column].value_counts())\n",
    "    print(\"\") "
   ]
  },
  {
   "cell_type": "code",
   "execution_count": 11,
   "metadata": {},
   "outputs": [
    {
     "data": {
      "text/plain": [
       "0                                                   NaN\n",
       "1     16 cases were marked as non-covid deaths in MH...\n",
       "2     2 deaths cross notified to other states from C...\n",
       "3     Delhi bulletins in the morning, containing dat...\n",
       "4                                                   NaN\n",
       "5                                                   NaN\n",
       "6                                                   NaN\n",
       "7                                                   NaN\n",
       "8                                                   NaN\n",
       "9                                                   NaN\n",
       "10    MoHFW website reports that these are the 'case...\n",
       "11    4 cases are classified as non-covid related de...\n",
       "12    Total includes patients from other states and ...\n",
       "13                                                  NaN\n",
       "14                                                  NaN\n",
       "15                                                  NaN\n",
       "16    Includes one case from Nagaland.\\nTotal of 3 p...\n",
       "17    Three non-covid deaths reported in state dashb...\n",
       "18                                                  NaN\n",
       "19    Mahe native who expired in Kannur included in ...\n",
       "20          27 Migrated cases reduced from Active count\n",
       "21                                                  NaN\n",
       "22                                                  NaN\n",
       "23                                                  NaN\n",
       "24                                                  NaN\n",
       "25                                                  NaN\n",
       "26    HP has 14 Migrated cases which are reduced fro...\n",
       "27                                                  NaN\n",
       "28                                                  NaN\n",
       "29                                                  NaN\n",
       "30                                                  NaN\n",
       "31                                                  NaN\n",
       "32                                                  NaN\n",
       "33                                                  NaN\n",
       "34                                                  NaN\n",
       "35                                                  NaN\n",
       "36    [June 17]:\\nOne case was identified to be fals...\n",
       "37                                                  NaN\n",
       "Name: State_Notes, dtype: object"
      ]
     },
     "execution_count": 11,
     "metadata": {},
     "output_type": "execute_result"
    }
   ],
   "source": [
    "StateWiseCovid19['State_Notes']"
   ]
  },
  {
   "cell_type": "code",
   "execution_count": null,
   "metadata": {
    "collapsed": true
   },
   "outputs": [],
   "source": []
  }
 ],
 "metadata": {
  "kernelspec": {
   "display_name": "Python 3",
   "language": "python",
   "name": "python3"
  },
  "language_info": {
   "codemirror_mode": {
    "name": "ipython",
    "version": 3
   },
   "file_extension": ".py",
   "mimetype": "text/x-python",
   "name": "python",
   "nbconvert_exporter": "python",
   "pygments_lexer": "ipython3",
   "version": "3.6.3"
  }
 },
 "nbformat": 4,
 "nbformat_minor": 2
}
