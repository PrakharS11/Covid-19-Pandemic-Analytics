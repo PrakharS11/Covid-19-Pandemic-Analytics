{
 "cells": [
  {
   "cell_type": "markdown",
   "metadata": {},
   "source": [
    "# Step by Step GUI Creation using tkinter "
   ]
  },
  {
   "cell_type": "markdown",
   "metadata": {},
   "source": [
    "<ol>\n",
    "<li>First, you import the key component, i.e., <b>the Tkinter module.</b></li>\n",
    "<li>As a next step, you initialize the window manager with the <b> tkinter.Tk()</b> method and assign it to a variable. This method creates a blank window with close, maximize, and minimize buttons on the top as a usual GUI should have.</li>\n",
    "<li>Then as an optional step, you will Rename the title of the window as you like with <b>window.title(title_of_the_window)</b></li>\n",
    "<li>Then, you make use of Tkinter's geometry management attribute called <b> pack() </b>to display the widget in size it requires.  </li>\n",
    "<li> Finally, as the last step, you use the <b> mainloop() </b>method to display the window until you manually close it. It runs an infinite loop in the backend.</li>\n",
    "</ol>"
   ]
  },
  {
   "cell_type": "code",
   "execution_count": 4,
   "metadata": {
    "collapsed": true
   },
   "outputs": [],
   "source": [
    "import tkinter\n",
    "window = tkinter.Tk()\n",
    "# to rename the title of the window\n",
    "window.title(\"GUI\")\n",
    "# pack is used to show the object in the window\n",
    "label = tkinter.Label(window, text = \"Welcome to Pandemic Analytics Day2 Session3  on Tkinter!\").pack()\n",
    "window.mainloop()"
   ]
  },
  {
   "cell_type": "markdown",
   "metadata": {},
   "source": [
    "# Creating a widget Button"
   ]
  },
  {
   "cell_type": "markdown",
   "metadata": {},
   "source": [
    "Widgets are similar in spirit to elements in HTML. You will find different types of widgets for different types of elements in the Tkinter. They are standard GUI elements and provide the user with controls like buttons, text, menus, and text boxes."
   ]
  },
  {
   "cell_type": "code",
   "execution_count": null,
   "metadata": {},
   "outputs": [],
   "source": [
    "window = tkinter.Tk()\n",
    "window.title(\"Button GUI\")\n",
    "button_widget = tkinter.Button(window,text=\"Welcome to Pandemic Analytics Day2 Session3  on Tkinter!\")\n",
    "button_widget.pack()\n",
    "tkinter.mainloop()"
   ]
  },
  {
   "cell_type": "markdown",
   "metadata": {},
   "source": [
    "<ol>\n",
    "<li>Button: Button widget has a property for switching on/off. When a user clicks the button, an event is triggered in the Tkinter.</li>\n",
    "<li>Canvas: Canvas is used to draw shapes in your GUI and supports various drawing methods.</li>\n",
    "    <li> Checkbutton: Checkbutton records on-off or true-false state. It lets you can select more than one option at a time and even leave it unchecked.</li>\n",
    "</ol>"
   ]
  },
  {
   "cell_type": "markdown",
   "metadata": {},
   "source": [
    "# Organizing Layout And Widgets"
   ]
  },
  {
   "cell_type": "markdown",
   "metadata": {},
   "source": [
    "To arrange the layout in the window, you will use a Frame widget class. Let's create a simple program to see how the Frame works."
   ]
  },
  {
   "cell_type": "markdown",
   "metadata": {},
   "source": [
    "<li>You will define two frames - top and bottom with the help of the pack class. The Frame class will help in creating a division between the window. Basically, a single-window will be replicated twice as top and bottom in the form of a Frame.</li>\n",
    "\n",
    "<li>Finally, you will create four buttons in the window, two for each frame. You can name and color your buttons as you like as a parameter.</li>"
   ]
  },
  {
   "cell_type": "code",
   "execution_count": null,
   "metadata": {
    "collapsed": true
   },
   "outputs": [],
   "source": [
    "import tkinter\n",
    "\n",
    "# Let's create the Tkinter window.\n",
    "window = tkinter.Tk()\n",
    "window.title(\"GUI\")\n",
    "\n",
    "# You will first create a division with the help of Frame class and align them on TOP and BOTTOM with pack() method.\n",
    "top_frame = tkinter.Frame(window).pack()\n",
    "bottom_frame = tkinter.Frame(window).pack(side = \"bottom\")\n",
    "\n",
    "# Once the frames are created then you are all set to add widgets in both the frames.\n",
    "btn1 = tkinter.Button(top_frame, text = \"Button1\", fg = \"red\").pack() #'fg or foreground' is for coloring the contents (buttons)\n",
    "\n",
    "btn2 = tkinter.Button(top_frame, text = \"Button2\", fg = \"green\").pack()\n",
    "\n",
    "btn3 = tkinter.Button(bottom_frame, text = \"Button3\", fg = \"purple\").pack(side = \"left\") #'side' is used to left or right align the widgets\n",
    "\n",
    "btn4 = tkinter.Button(bottom_frame, text = \"Button4\", fg = \"orange\").pack(side = \"left\")\n",
    "\n",
    "window.mainloop()"
   ]
  },
  {
   "cell_type": "code",
   "execution_count": null,
   "metadata": {
    "collapsed": true
   },
   "outputs": [],
   "source": []
  }
 ],
 "metadata": {
  "kernelspec": {
   "display_name": "Python 3",
   "language": "python",
   "name": "python3"
  },
  "language_info": {
   "codemirror_mode": {
    "name": "ipython",
    "version": 3
   },
   "file_extension": ".py",
   "mimetype": "text/x-python",
   "name": "python",
   "nbconvert_exporter": "python",
   "pygments_lexer": "ipython3",
   "version": "3.7.6"
  }
 },
 "nbformat": 4,
 "nbformat_minor": 2
}
